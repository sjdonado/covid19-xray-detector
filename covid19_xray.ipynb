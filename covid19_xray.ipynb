{
  "nbformat": 4,
  "nbformat_minor": 0,
  "metadata": {
    "colab": {
      "name": "covid19-xray.ipynb",
      "provenance": [],
      "authorship_tag": "ABX9TyOXlwoV+4Luil+vHYqa+r5e",
      "include_colab_link": true
    },
    "kernelspec": {
      "name": "python3",
      "display_name": "Python 3"
    }
  },
  "cells": [
    {
      "cell_type": "markdown",
      "metadata": {
        "id": "view-in-github",
        "colab_type": "text"
      },
      "source": [
        "<a href=\"https://colab.research.google.com/github/sjdonado/covid19-xray-predictions/blob/master/covid19_xray.ipynb\" target=\"_parent\"><img src=\"https://colab.research.google.com/assets/colab-badge.svg\" alt=\"Open In Colab\"/></a>"
      ]
    },
    {
      "cell_type": "code",
      "metadata": {
        "id": "NVHd-Xkgy3R_",
        "colab_type": "code",
        "colab": {
          "base_uri": "https://localhost:8080/",
          "height": 34
        },
        "outputId": "50ed7d12-6607-4d29-b2c3-4e711cf17e76"
      },
      "source": [
        "import os\n",
        "import matplotlib.pyplot as plt\n",
        "import pandas as pd\n",
        "import numpy as np\n",
        "import random\n",
        "import shutil\n",
        "import cv2\n",
        "\n",
        "!pip install imutils\n",
        "\n",
        "from imutils import paths"
      ],
      "execution_count": 33,
      "outputs": [
        {
          "output_type": "stream",
          "text": [
            "Requirement already satisfied: imutils in /usr/local/lib/python3.6/dist-packages (0.5.3)\n"
          ],
          "name": "stdout"
        }
      ]
    },
    {
      "cell_type": "code",
      "metadata": {
        "id": "naupvuep57hr",
        "colab_type": "code",
        "colab": {
          "base_uri": "https://localhost:8080/",
          "height": 51
        },
        "outputId": "90f6cb4e-6fb5-4811-cb8f-11dc79077ca6"
      },
      "source": [
        "from google.colab import drive\n",
        "drive.mount('/content/gdrive')\n",
        "project_path = '/content/gdrive/My Drive/Kaggle/covid19-xray'\n",
        "dataset_path = project_path + '/dataset'\n",
        "os.environ['KAGGLE_CONFIG_DIR'] = '/content/gdrive/My Drive/Kaggle'\n",
        "\n",
        "%cd /content/gdrive/My Drive/Kaggle/covid19-xray"
      ],
      "execution_count": 82,
      "outputs": [
        {
          "output_type": "stream",
          "text": [
            "Drive already mounted at /content/gdrive; to attempt to forcibly remount, call drive.mount(\"/content/gdrive\", force_remount=True).\n",
            "/content/gdrive/My Drive/Kaggle/covid19-xray\n"
          ],
          "name": "stdout"
        }
      ]
    },
    {
      "cell_type": "code",
      "metadata": {
        "id": "oPLoqqRb4-hz",
        "colab_type": "code",
        "colab": {}
      },
      "source": [
        "%%bash\n",
        "rm -rf dataset\n",
        "mkdir -p dataset/covid\n",
        "mkdir -p dataset/normal\n",
        "mkdir -p input/covid-chest-xray\n",
        "mkdir -p input/chest-xray-pneumonia/chest_xray"
      ],
      "execution_count": 0,
      "outputs": []
    },
    {
      "cell_type": "code",
      "metadata": {
        "id": "ulwQgVW26jNT",
        "colab_type": "code",
        "colab": {
          "base_uri": "https://localhost:8080/",
          "height": 85
        },
        "outputId": "3bc35ff0-df18-4c5a-8a8e-96fd9f71a22a"
      },
      "source": [
        "# download covid dataset\n",
        "covid_dataset_path = project_path + '/input/covid-chest-xray'\n",
        "%cd /content/gdrive/My Drive/Kaggle/covid19-xray/input/covid-chest-xray\n",
        "\n",
        "!kaggle datasets download -d bachrr/covid-chest-xray\n",
        "!unzip -qq \\*.zip\n",
        "%rm *.zip"
      ],
      "execution_count": 84,
      "outputs": [
        {
          "output_type": "stream",
          "text": [
            "/content/gdrive/My Drive/Kaggle/covid19-xray/input/covid-chest-xray\n",
            "Downloading covid-chest-xray.zip to /content/gdrive/My Drive/Kaggle/covid19-xray/input/covid-chest-xray\n",
            " 97% 204M/211M [00:02<00:00, 115MB/s]\n",
            "100% 211M/211M [00:02<00:00, 97.3MB/s]\n"
          ],
          "name": "stdout"
        }
      ]
    },
    {
      "cell_type": "code",
      "metadata": {
        "id": "qr5T4F-W7ahX",
        "colab_type": "code",
        "colab": {}
      },
      "source": [
        "# construct the path to the metadata CSV file and load it\n",
        "csvPath = os.path.sep.join([covid_dataset_path, \"metadata.csv\"])\n",
        "df = pd.read_csv(csvPath)\n",
        "\n",
        "# loop over the rows of the COVID-19 data frame\n",
        "for (i, row) in df.iterrows():\n",
        "    # if (1) the current case is not COVID-19 or (2) this is not\n",
        "    # a 'PA' view, then ignore the row\n",
        "    if row[\"finding\"] != \"COVID-19\" or row[\"view\"] != \"PA\":\n",
        "        continue\n",
        "\n",
        "    # build the path to the input image file\n",
        "    imagePath = os.path.sep.join([covid_dataset_path, \"images\", row[\"filename\"]])\n",
        "\n",
        "    # if the input image file does not exist (there are some errors in\n",
        "    # the COVID-19 metadeta file), ignore the row\n",
        "    if not os.path.exists(imagePath):\n",
        "        continue\n",
        "\n",
        "    # extract the filename from the image path and then construct the\n",
        "    # path to the copied image file\n",
        "    filename = row[\"filename\"].split(os.path.sep)[-1]\n",
        "    outputPath = os.path.sep.join([f\"{dataset_path}/covid\", filename])\n",
        "\n",
        "    # copy the image\n",
        "    shutil.copy2(imagePath, outputPath)"
      ],
      "execution_count": 0,
      "outputs": []
    },
    {
      "cell_type": "code",
      "metadata": {
        "id": "qx3FVBiV5GeD",
        "colab_type": "code",
        "colab": {
          "base_uri": "https://localhost:8080/",
          "height": 85
        },
        "outputId": "e2c07f6d-0a40-4594-c620-8ea4aeabe55d"
      },
      "source": [
        "# download pneumonia dataset\n",
        "pneumonia_dataset_path = project_path + '/input/chest-xray-pneumonia/chest_xray'\n",
        "%cd /content/gdrive/My Drive/Kaggle/covid19-xray/input/chest-xray-pneumonia/chest_xray\n",
        "\n",
        "!kaggle datasets download -d paultimothymooney/chest-xray-pneumonia\n",
        "!unzip -qq \\*.zip\n",
        "%rm *.zip"
      ],
      "execution_count": 86,
      "outputs": [
        {
          "output_type": "stream",
          "text": [
            "/content/gdrive/My Drive/Kaggle/covid19-xray/input/chest-xray-pneumonia/chest_xray\n",
            "Downloading chest-xray-pneumonia.zip to /content/gdrive/My Drive/Kaggle/covid19-xray/input/chest-xray-pneumonia/chest_xray\n",
            "100% 2.29G/2.29G [00:25<00:00, 118MB/s]\n",
            "100% 2.29G/2.29G [00:25<00:00, 95.9MB/s]\n"
          ],
          "name": "stdout"
        }
      ]
    },
    {
      "cell_type": "code",
      "metadata": {
        "id": "IcWqRgUw8CN2",
        "colab_type": "code",
        "colab": {}
      },
      "source": [
        "# build normal xray dataset\n",
        "samples = 25\n",
        "basePath = os.path.sep.join([pneumonia_dataset_path, \"train\", \"NORMAL\"])\n",
        "imagePaths = list(paths.list_images(basePath))\n",
        "\n",
        "# randomly sample the image paths\n",
        "random.seed(42)\n",
        "random.shuffle(imagePaths)\n",
        "imagePaths = imagePaths[:samples]\n",
        "\n",
        "# loop over the image paths\n",
        "for (i, imagePath) in enumerate(imagePaths):\n",
        "    # extract the filename from the image path and then construct the\n",
        "    # path to the copied image file\n",
        "    filename = imagePath.split(os.path.sep)[-1]\n",
        "    outputPath = os.path.sep.join([f\"{dataset_path}/normal\", filename])\n",
        "\n",
        "    # copy the image\n",
        "    shutil.copy2(imagePath, outputPath)"
      ],
      "execution_count": 0,
      "outputs": []
    }
  ]
}